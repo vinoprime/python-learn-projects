{
 "cells": [
  {
   "cell_type": "code",
   "execution_count": null,
   "metadata": {},
   "outputs": [],
   "source": [
    "print(\"Two sum\")"
   ]
  },
  {
   "cell_type": "code",
   "execution_count": null,
   "metadata": {},
   "outputs": [
    {
     "name": "stdout",
     "output_type": "stream",
     "text": [
      "None\n",
      "[3, 4]\n",
      "[0, 4]\n"
     ]
    }
   ],
   "source": [
    "# Given an array of integers, return indices of the two numbers that add up to a given target\n",
    "# arr = [1,3,7,9,2], target = 11\n",
    "\n",
    "\n",
    "# 1. Verify the constraints\n",
    "# q1 : Are all the numbers +ve or can there be -ve\n",
    "# q2 : Are there duplicates numbers in the array?\n",
    "# q3 : What do we return if there's no solution? ans : return null\n",
    "\n",
    "# 2. Write out some test cases\n",
    "# t1 : [1,3,7,9,2] t = 11 ,  out = [3,4]\n",
    "# t2 : [1,3,7,9,2] t = 25 ,  out = null\n",
    "# t3 : [], t=1            , out = null\n",
    "\n",
    "# 3. Figure out colution without code\n",
    "\n",
    "\n",
    "# Soultion Brute Force\n",
    "def twoSumBruteForce(arr: list, target: int):  # O(n)×O(n)=O(n^2)\n",
    "\n",
    "    for p1 in range(len(arr)):  # O(n)\n",
    "        number_to_find = target - arr[p1]\n",
    "        for p2 in range(p1+1, len(arr)):  # O(n)\n",
    "            if number_to_find == arr[p2]:\n",
    "                return [p1, p2]\n",
    "    return None\n",
    "\n",
    "\n",
    "def optomizedTwoSum(arr: list, target: int):\n",
    "    nums_map = {}  # O(n) space complexity\n",
    "    for i, num in enumerate(arr):  # O(n) time complexity\n",
    "        number_to_find = target - num\n",
    "        if number_to_find in nums_map:\n",
    "            return [nums_map[number_to_find], i]\n",
    "        nums_map[num] = i\n",
    "        # print(nums_map)\n",
    "\n",
    "    return None\n",
    "\n",
    "\n",
    "# Applicatble only if the array is sorted\n",
    "def twoPointerApproachTwoSum(arr: list, target: int): # O(nlog(n)) and O(1) space\n",
    "    leftPtr, rightPtr = 0, len(arr)-1\n",
    "    \n",
    "    while leftPtr <rightPtr:\n",
    "        current_sum = arr[leftPtr] + arr[rightPtr]\n",
    "        \n",
    "        if current_sum == target:\n",
    "            return [leftPtr,rightPtr]\n",
    "        \n",
    "        if current_sum < target:\n",
    "            leftPtr += 1\n",
    "        else:\n",
    "            rightPtr -=1\n",
    "            \n",
    "    return None\n",
    "\n",
    "\n",
    "print(twoSumBruteForce([1, 3, 7, 9, 2], 7))\n",
    "print(optomizedTwoSum([1, 3, 7, 9, 2], 11))\n",
    "print(twoPointerApproachTwoSum([1, 3, 7, 8, 9], 10))"
   ]
  }
 ],
 "metadata": {
  "kernelspec": {
   "display_name": ".venv",
   "language": "python",
   "name": "python3"
  },
  "language_info": {
   "codemirror_mode": {
    "name": "ipython",
    "version": 3
   },
   "file_extension": ".py",
   "mimetype": "text/x-python",
   "name": "python",
   "nbconvert_exporter": "python",
   "pygments_lexer": "ipython3",
   "version": "3.11.0"
  }
 },
 "nbformat": 4,
 "nbformat_minor": 2
}
