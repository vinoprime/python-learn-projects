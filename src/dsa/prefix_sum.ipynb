{
 "cells": [
  {
   "cell_type": "code",
   "execution_count": 47,
   "metadata": {},
   "outputs": [
    {
     "data": {
      "text/plain": [
       "[0, 1, 6, 10, 18, 21, 28, 34]"
      ]
     },
     "execution_count": 47,
     "metadata": {},
     "output_type": "execute_result"
    }
   ],
   "source": [
    "input_arr = [1, 5, 4, 8, 3, 7, 6]\n",
    "n = len(input_arr)\n",
    "\n",
    "\n",
    "def fill_prefix_sum(input_arr, prefix_sum, input_arr_length):\n",
    "    # prefix_sum[1] = input_arr[1]\n",
    "    for i in range(1, (n+1)):\n",
    "        prefix_sum[i] = prefix_sum[i-1] + input_arr[i-1]\n",
    "        # print(i)\n",
    "    return prefix_sum\n",
    "\n",
    "\n",
    "# prefix_sum = [0 for i in range(n+1)]\n",
    "prefix_sum = [0]*(n+1)\n",
    "prefix_sum\n",
    "x = fill_prefix_sum(input_arr, prefix_sum, n)\n",
    "x"
   ]
  },
  {
   "cell_type": "markdown",
   "metadata": {},
   "source": [
    "#real-world use case:\n",
    "\n",
    "Range Sum Quries:\n",
    "\n",
    "You are a financial analyst tasked with analyzing historical stock price data for a particular company. To efficiently track daily trading activity and answer ad-hoc queries, you need to design an algorithm that can quickly calculate the sum of stock prices within any given time interval.\n",
    "\n",
    "Example Scenario:\n",
    "\n",
    "Imagine you have an array representing the daily closing prices of a stock over a period of one year:\n",
    "\n",
    "prices = [100, 105, 98, 110, 102, 115, 108]\n",
    "prices[0] represents the price on day 1.\n",
    "prices[1] represents the price on day 2, and so on.\n",
    "Your task:\n",
    "\n",
    "Design an algorithm that can efficiently answer queries like:\n",
    "\n",
    "\"What is the sum of stock prices from day 3 to day 6?\"\n",
    "\"What is the total value of the stock over the first week?\"\n",
    "Constraints:\n",
    "\n",
    "You will receive many such queries.\n",
    "You should optimize your algorithm for speed to handle a large number of queries efficiently.\n"
   ]
  },
  {
   "cell_type": "code",
   "execution_count": 94,
   "metadata": {},
   "outputs": [
    {
     "name": "stdout",
     "output_type": "stream",
     "text": [
      "What is the sum of stock prices from day 3 to day 6? is 425\n",
      "What is the total value of the stock over the first week? 738\n"
     ]
    }
   ],
   "source": [
    "# Inputs\n",
    "prices = [100, 105, 98, 110, 102, 115, 108]\n",
    "# Output\n",
    "# \"What is the sum of stock prices from day 3 to day 6?\"\n",
    "# \"What is the total value of the stock over the first week?\"\n",
    "\n",
    "\n",
    "def fill_prefix_sum_arr(arr):\n",
    "    prefix_sum_arr = [0]*(n+1)\n",
    "    for i, price in enumerate(arr):\n",
    "        prefix_sum_arr[i+1] = prefix_sum_arr[i]+price\n",
    "    return prefix_sum_arr\n",
    "\n",
    "\n",
    "def calculateSumByDays(prefix_sum_arr, start_date: int, end_date: int):\n",
    "    sum = prefix_sum_arr[end_date] - prefix_sum_arr[start_date-1]\n",
    "    return sum\n",
    "\n",
    "\n",
    "def main():\n",
    "    n = len(prices)\n",
    "\n",
    "    result = fill_prefix_sum_arr(prices)\n",
    "\n",
    "    from_day = 3\n",
    "    to_day = 6\n",
    "    sum = calculateSumByDays(result, from_day, to_day)\n",
    "    print(\"What is the sum of stock prices from day 3 to day 6? is\", sum)\n",
    "\n",
    "    from_day = 1\n",
    "    to_day = 7\n",
    "    sum = calculateSumByDays(result, from_day, to_day)\n",
    "    print(\"What is the total value of the stock over the first week?\", sum)\n",
    "\n",
    "\n",
    "main()"
   ]
  },
  {
   "cell_type": "code",
   "execution_count": null,
   "metadata": {},
   "outputs": [],
   "source": []
  }
 ],
 "metadata": {
  "kernelspec": {
   "display_name": ".venv",
   "language": "python",
   "name": "python3"
  },
  "language_info": {
   "codemirror_mode": {
    "name": "ipython",
    "version": 3
   },
   "file_extension": ".py",
   "mimetype": "text/x-python",
   "name": "python",
   "nbconvert_exporter": "python",
   "pygments_lexer": "ipython3",
   "version": "3.11.0"
  }
 },
 "nbformat": 4,
 "nbformat_minor": 2
}
