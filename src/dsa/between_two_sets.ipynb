{
 "cells": [
  {
   "cell_type": "code",
   "execution_count": 10,
   "metadata": {},
   "outputs": [],
   "source": [
    "import math"
   ]
  },
  {
   "cell_type": "code",
   "execution_count": 11,
   "metadata": {},
   "outputs": [],
   "source": [
    "def lcm(arr):\n",
    "    result = arr[0]\n",
    "    print(len(arr))\n",
    "    for i in range(1, len(arr)):\n",
    "        result = (result * arr[i]) // math.gcd(result, arr[i])\n",
    "    return result\n",
    "\n",
    "\n",
    "def gcd(arr: list):\n",
    "    result = arr[0]\n",
    "    for i in range(1, len(arr)):\n",
    "        result = math.gcd(result, arr[i])\n",
    "    return result"
   ]
  },
  {
   "cell_type": "code",
   "execution_count": 14,
   "metadata": {},
   "outputs": [
    {
     "name": "stdout",
     "output_type": "stream",
     "text": [
      "2\n",
      "3\n"
     ]
    }
   ],
   "source": [
    "def getTotalX(a, b):\n",
    "    lcm_a = lcm(a)\n",
    "    gcd_b = gcd(b)\n",
    "    count = 0\n",
    "    for i in range(lcm_a, gcd_b + 1):\n",
    "        is_factor_of_all_b = True\n",
    "        for x in b:\n",
    "            if x % i != 0:\n",
    "                is_factor_of_all_b = False\n",
    "                break\n",
    "        is_multiple_of_all_a = True\n",
    "        for x in a:\n",
    "            if i % x != 0:\n",
    "                is_multiple_of_all_a = False\n",
    "                break\n",
    "        if is_factor_of_all_b and is_multiple_of_all_a:\n",
    "            count += 1\n",
    "    return count\n",
    "\n",
    "\n",
    "# Example usage\n",
    "a = [2, 4]\n",
    "b = [16, 32, 96]\n",
    "result = getTotalX(a, b)\n",
    "print(result)  # Output: 3"
   ]
  },
  {
   "cell_type": "code",
   "execution_count": 16,
   "metadata": {},
   "outputs": [
    {
     "name": "stdout",
     "output_type": "stream",
     "text": [
      "2\n",
      "3\n"
     ]
    }
   ],
   "source": [
    "def calculateBetweenTwoSets(a: list, b: list):\n",
    "    count = 0\n",
    "    lcm_a = lcm(a)\n",
    "    gcd_b = gcd(b)\n",
    "    for i in range(lcm_a, gcd_b+1):\n",
    "        is_factor_of_all_b = True\n",
    "        for x in b:\n",
    "            if x % i != 0:\n",
    "                is_factor_of_all_b = False\n",
    "                break\n",
    "        is_multiple_of_all_a = True\n",
    "        for x in a:\n",
    "            if x % i != 0:\n",
    "                is_multiple_of_all_a = False\n",
    "                break\n",
    "        if is_factor_of_all_b and is_multiple_of_all_a == True:\n",
    "            count += 1\n",
    "    return count\n",
    "\n",
    "\n",
    "a = [2, 4]\n",
    "b = [16, 32, 96]\n",
    "result = getTotalX(a, b)\n",
    "print(result)  # Output: 3"
   ]
  }
 ],
 "metadata": {
  "kernelspec": {
   "display_name": ".venv",
   "language": "python",
   "name": "python3"
  },
  "language_info": {
   "codemirror_mode": {
    "name": "ipython",
    "version": 3
   },
   "file_extension": ".py",
   "mimetype": "text/x-python",
   "name": "python",
   "nbconvert_exporter": "python",
   "pygments_lexer": "ipython3",
   "version": "3.11.0"
  }
 },
 "nbformat": 4,
 "nbformat_minor": 2
}
