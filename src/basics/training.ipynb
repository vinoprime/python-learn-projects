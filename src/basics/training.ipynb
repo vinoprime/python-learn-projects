{
 "cells": [
  {
   "cell_type": "code",
   "execution_count": 8,
   "metadata": {},
   "outputs": [
    {
     "name": "stdout",
     "output_type": "stream",
     "text": [
      "Enter stock QTY: \n",
      "52\n",
      "In Stock\n"
     ]
    }
   ],
   "source": [
    "# Exercise:\n",
    "# 1. Inventory Management (Retail): Write a program to categorize inventory based on stock quantity:\n",
    "# Stock > 50: \"In Stock\"\n",
    "# Stock > 10 and <= 50: \"Low Stock\"\n",
    "# Stock <= 10: \"Out of Stock\"\n",
    "\n",
    "print(\"Enter stock QTY: \")\n",
    "stock = input()\n",
    "print(stock)\n",
    "stock = int(stock)\n",
    "\n",
    "if stock > 50: print(\"In Stock\")\n",
    "elif stock > 10 and stock <= 50: print(\"Low Stock\")\n",
    "elif stock <= 10: print(\"Out of Stock\")"
   ]
  },
  {
   "cell_type": "code",
   "execution_count": 9,
   "metadata": {},
   "outputs": [
    {
     "name": "stdout",
     "output_type": "stream",
     "text": [
      "Enter Your Credit Score: \n",
      "750\n",
      "Loan Approved\n"
     ]
    }
   ],
   "source": [
    "# 2. Loan Approval (Banking): Create a program to decide if a customer’s loan should be approved based on:\n",
    "# Credit score >= 750: \"Loan Approved\"\n",
    "# Credit score between 600 and 749: \"Loan Under Review\"\n",
    "# Credit score < 600: \"Loan Denied\"\n",
    "\n",
    "print(\"Enter Your Credit Score: \")\n",
    "score = int(input())\n",
    "print(score)\n",
    "\n",
    "if score >= 750: print(\"Loan Approved\")\n",
    "elif score >= 600 and score <= 749: print(\"Loan Under Review\")\n",
    "elif score < 600: print(\"Loan Denied\")\n",
    " "
   ]
  },
  {
   "cell_type": "code",
   "execution_count": 12,
   "metadata": {},
   "outputs": [
    {
     "name": "stdout",
     "output_type": "stream",
     "text": [
      "Enter Your Salary: \n",
      "30000\n",
      "Your Tax Bracket is 10%\n"
     ]
    }
   ],
   "source": [
    "# Salary Tax Bracket (Finance): Determine the tax bracket for an employee based on their salary:\n",
    "# Salary > 1,00,000: 30%\n",
    "# Salary between 50,000 and 1,00,000: 20%\n",
    "# Salary < 50,000: 10%\n",
    "\n",
    "print(\"Enter Your Salary: \")\n",
    "salary = int(input())\n",
    "print(salary)\n",
    "\n",
    "if salary >= 100000: print(\"Your Tax Bracket is 30%\")\n",
    "elif salary >= 50000 and salary <= 100000: print(\"Your Tax Bracket is 20%\")\n",
    "elif salary < 50000: print(\"Your Tax Bracket is 10%\")"
   ]
  },
  {
   "cell_type": "code",
   "execution_count": 2,
   "metadata": {},
   "outputs": [],
   "source": [
    "import numpy as np\n",
    "\n",
    "# Numpy is the backbone of ML\n",
    "# Numpy implementations are in c language"
   ]
  },
  {
   "cell_type": "code",
   "execution_count": 2,
   "metadata": {},
   "outputs": [
    {
     "name": "stdout",
     "output_type": "stream",
     "text": [
      "1.26.1\n"
     ]
    }
   ],
   "source": [
    "print(np.__version__)"
   ]
  },
  {
   "cell_type": "code",
   "execution_count": 9,
   "metadata": {},
   "outputs": [
    {
     "name": "stdout",
     "output_type": "stream",
     "text": [
      "[1 2 3 4 5]\n",
      "[2 2 3 4 4]\n",
      "3.0\n",
      "3.0\n",
      "1.4142135623730951\n",
      "2.0\n"
     ]
    }
   ],
   "source": [
    "# Create an array\n",
    "# Syntax np.array(data, dtype)\n",
    "import numpy as np\n",
    "arr = np.array([1, 2, 3, 4, 5])\n",
    "print(arr)\n",
    "\n",
    "# Clip function\n",
    "# Syntax np.clip(array, min, max)\n",
    "import numpy as np\n",
    "arr = np.array([1, 2, 3, 4, 5])\n",
    "print(np.clip(arr, 2, 4))\n",
    "\n",
    "# Functions\n",
    "# 1. np.mean()\n",
    "print(np.mean(arr))\n",
    "# 2. np.median()\n",
    "print(np.median(arr))\n",
    "# 3. np.std()\n",
    "print(np.std(arr))\n",
    "# 4. np.var()\n",
    "print(np.var(arr))\n"
   ]
  },
  {
   "cell_type": "code",
   "execution_count": 12,
   "metadata": {},
   "outputs": [
    {
     "name": "stdout",
     "output_type": "stream",
     "text": [
      "[[0.5488135  0.71518937 0.60276338 0.54488318 0.4236548 ]\n",
      " [0.64589411 0.43758721 0.891773   0.96366276 0.38344152]\n",
      " [0.79172504 0.52889492 0.56804456 0.92559664 0.07103606]\n",
      " [0.0871293  0.0202184  0.83261985 0.77815675 0.87001215]\n",
      " [0.97861834 0.79915856 0.46147936 0.78052918 0.11827443]]\n"
     ]
    }
   ],
   "source": [
    "import numpy as np\n",
    "x = np.random.rand(5,5)\n",
    "print(x)\n",
    "#"
   ]
  },
  {
   "cell_type": "code",
   "execution_count": 1,
   "metadata": {},
   "outputs": [],
   "source": [
    "import pandas"
   ]
  }
 ],
 "metadata": {
  "kernelspec": {
   "display_name": ".venv",
   "language": "python",
   "name": "python3"
  },
  "language_info": {
   "codemirror_mode": {
    "name": "ipython",
    "version": 3
   },
   "file_extension": ".py",
   "mimetype": "text/x-python",
   "name": "python",
   "nbconvert_exporter": "python",
   "pygments_lexer": "ipython3",
   "version": "3.11.0"
  }
 },
 "nbformat": 4,
 "nbformat_minor": 2
}
