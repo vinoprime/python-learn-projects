{
 "cells": [
  {
   "cell_type": "code",
   "execution_count": 1,
   "metadata": {},
   "outputs": [],
   "source": [
    "from sklearn.linear_model import LinearRegression\n",
    "from sklearn.model_selection import train_test_split\n",
    "from sklearn.metrics import mean_squared_error, r2_score\n",
    "import joblib\n",
    "import pandas as pd\n"
   ]
  },
  {
   "cell_type": "code",
   "execution_count": 2,
   "metadata": {},
   "outputs": [
    {
     "name": "stdout",
     "output_type": "stream",
     "text": [
      "Mean Squared Error: 37.39602465893928\n",
      "R-squared: 0.41982024038115584\n"
     ]
    }
   ],
   "source": [
    "# Assign the dataframe to this variable.\n",
    "bmi_life_data = pd.read_csv(\"./data/bmi_and_life_expectancy.csv\")\n",
    "\n",
    "# Split the dataset into features (X) and the target variable (y)\n",
    "X = bmi_life_data[[\"BMI\"]]  # Features\n",
    "y = bmi_life_data[[\"Life expectancy\"]]  # Target variable\n",
    "\n",
    "# Split the data into a training set and a testing set (80% training, 20% testing)\n",
    "X_train, X_test, y_train, y_test = train_test_split(X, y, test_size=0.2, random_state=42)\n",
    "\n",
    "# Make and fit the Linear Regression Model with feature names\n",
    "model = LinearRegression()\n",
    "\n",
    "# Create a Linear Regression model with Mean Absolute Error (MAE) as the loss function\n",
    "# model = LinearRegression(loss='absolute_loss')\n",
    "\n",
    "# Create a Linear Regression model with Huber Loss as the loss function\n",
    "# model = LinearRegression(loss='huber')\n",
    "\n",
    "\n",
    "# Train the model on the training data\n",
    "model.fit(X_train, y_train)\n",
    "\n",
    "\n",
    "# Make predictions on the testing data\n",
    "y_pred = model.predict(X_test)\n",
    "\n",
    "\n",
    "# Evaluate the model\n",
    "mse = mean_squared_error(y_test, y_pred)\n",
    "r2 = r2_score(y_test, y_pred)\n",
    "print(\"Mean Squared Error:\", mse)\n",
    "print(\"R-squared:\", r2)\n"
   ]
  },
  {
   "cell_type": "code",
   "execution_count": 3,
   "metadata": {},
   "outputs": [
    {
     "data": {
      "text/plain": [
       "['./model_builds/bmi_life_model.vr']"
      ]
     },
     "execution_count": 3,
     "metadata": {},
     "output_type": "execute_result"
    }
   ],
   "source": [
    "# Build production file\n",
    "joblib.dump(model, \"./model_builds/bmi_life_model.vr\")"
   ]
  },
  {
   "cell_type": "code",
   "execution_count": 4,
   "metadata": {},
   "outputs": [
    {
     "name": "stdout",
     "output_type": "stream",
     "text": [
      "Predicted Life Expectancy for BMI 26.44657: [[73.74283141]]\n"
     ]
    }
   ],
   "source": [
    "# Make a prediction for a specific BMI value\n",
    "bmi_value_to_predict = 26.44657  # Replace with your desired BMI value\n",
    "pred_df = pd.DataFrame([[bmi_value_to_predict]], columns=[\"BMI\"])\n",
    "laos_life_exp = model.predict(pred_df)\n",
    "print(f\"Predicted Life Expectancy for BMI {bmi_value_to_predict}: {laos_life_exp}\")"
   ]
  },
  {
   "cell_type": "code",
   "execution_count": 5,
   "metadata": {},
   "outputs": [
    {
     "name": "stdout",
     "output_type": "stream",
     "text": [
      "Predicted Life Expectancy for BMI 26.44657: [[73.74283141]]\n"
     ]
    }
   ],
   "source": [
    "#  Prodcution\n",
    "\n",
    "new_model = joblib.load(\"./model_builds/bmi_life_model.vr\")\n",
    "\n",
    "bmi_value_to_predict = 26.44657  # Replace with your desired BMI value\n",
    "pred_df = pd.DataFrame([[bmi_value_to_predict]], columns=[\"BMI\"])\n",
    "laos_life_exp = new_model.predict(pred_df)\n",
    "print(f\"Predicted Life Expectancy for BMI {bmi_value_to_predict}: {laos_life_exp}\")"
   ]
  }
 ],
 "metadata": {
  "kernelspec": {
   "display_name": "venv",
   "language": "python",
   "name": "python3"
  },
  "language_info": {
   "codemirror_mode": {
    "name": "ipython",
    "version": 3
   },
   "file_extension": ".py",
   "mimetype": "text/x-python",
   "name": "python",
   "nbconvert_exporter": "python",
   "pygments_lexer": "ipython3",
   "version": "3.11.5"
  }
 },
 "nbformat": 4,
 "nbformat_minor": 2
}
