{
 "cells": [
  {
   "cell_type": "code",
   "execution_count": 2,
   "metadata": {},
   "outputs": [],
   "source": [
    "import numpy as np\n",
    "import torch"
   ]
  },
  {
   "cell_type": "code",
   "execution_count": 3,
   "metadata": {},
   "outputs": [
    {
     "name": "stdout",
     "output_type": "stream",
     "text": [
      "[[1 2 3 4]]\n",
      " \n",
      "[[1]\n",
      " [2]\n",
      " [3]\n",
      " [4]]\n",
      "[[1 2 3 4]]\n",
      "[[1]\n",
      " [2]\n",
      " [3]\n",
      " [4]]\n"
     ]
    }
   ],
   "source": [
    "# Create a vector(Linear Algebra)\n",
    "nv = np.array([[1, 2, 3, 4]])\n",
    "print(nv)\n",
    "print(\" \")\n",
    "# transpose it\n",
    "print(nv.T)\n",
    "print(nv)\n",
    "nvT = nv.T\n",
    "print(nvT)\n",
    "\n"
   ]
  },
  {
   "cell_type": "code",
   "execution_count": 4,
   "metadata": {},
   "outputs": [
    {
     "name": "stdout",
     "output_type": "stream",
     "text": [
      "[[1 2 3 4]\n",
      " [2 3 4 5]]\n",
      "[[1 2]\n",
      " [2 3]\n",
      " [3 4]\n",
      " [4 5]]\n",
      "[[1 2 3 4]\n",
      " [2 3 4 5]]\n"
     ]
    }
   ],
   "source": [
    "# Matrix\n",
    "nM = np.array([[1, 2, 3, 4],\n",
    "               [2, 3, 4, 5]])\n",
    "print(nM)\n",
    "nMT = nM.T\n",
    "print(nMT)\n",
    "print(nMT.T)"
   ]
  },
  {
   "cell_type": "code",
   "execution_count": 5,
   "metadata": {},
   "outputs": [
    {
     "name": "stdout",
     "output_type": "stream",
     "text": [
      "tensor([[1, 2, 3, 4]])\n",
      "tensor([[1],\n",
      "        [2],\n",
      "        [3],\n",
      "        [4]])\n"
     ]
    }
   ],
   "source": [
    "tv = torch.tensor([ [1,2,3,4] ])\n",
    "print(tv)\n",
    "print(tv.T)"
   ]
  },
  {
   "cell_type": "code",
   "execution_count": 6,
   "metadata": {},
   "outputs": [
    {
     "name": "stdout",
     "output_type": "stream",
     "text": [
      "-2\n",
      "-2\n"
     ]
    }
   ],
   "source": [
    "nv1 = np.array([1, 2, 3, 4])\n",
    "nv2 = np.array([0, 1, 0, -1])\n",
    "\n",
    "# dot product\n",
    "print(np.dot(nv1, nv2))\n",
    "print(np.sum(nv1*nv2))"
   ]
  },
  {
   "cell_type": "code",
   "execution_count": 7,
   "metadata": {},
   "outputs": [
    {
     "name": "stdout",
     "output_type": "stream",
     "text": [
      "tensor(-2)\n"
     ]
    }
   ],
   "source": [
    "tv1 = torch.tensor([1, 2, 3, 4])\n",
    "tv2 = torch.tensor([0, 1, 0, -1])\n",
    "\n",
    "print(torch.dot(tv1, tv2))"
   ]
  },
  {
   "cell_type": "code",
   "execution_count": 8,
   "metadata": {},
   "outputs": [
    {
     "name": "stdout",
     "output_type": "stream",
     "text": [
      "[[-0.84 -2.98  0.71  2.03 -4.96]\n",
      " [ 0.54  2.89 -1.41  0.72  4.85]\n",
      " [ 0.82  0.24  1.81 -1.58  0.76]]\n",
      "[[ 0.32  1.64  0.36  2.55]\n",
      " [-2.44 -1.49  2.57 -1.28]\n",
      " [-0.46 -0.87 -1.61 -1.99]\n",
      " [-0.55 -1.68 -2.2  -3.42]\n",
      " [-1.57 -1.96 -2.71 -4.14]\n",
      " [-1.27 -0.75 -0.89 -1.59]\n",
      " [-1.5  -1.92  2.86 -1.68]]\n"
     ]
    }
   ],
   "source": [
    "# Matrix multiplication\n",
    "A = np.random.randn(3,4)\n",
    "B = np.random.randn(4,5)\n",
    "C = np.random.randn(3,7)\n",
    "\n",
    "print(np.round(A@B,2))\n",
    "# print(np.round(A@C,2))\n",
    "print(np.round(C.T@A,2))"
   ]
  },
  {
   "cell_type": "code",
   "execution_count": 10,
   "metadata": {},
   "outputs": [
    {
     "name": "stdout",
     "output_type": "stream",
     "text": [
      "tensor([[ 4.0600,  1.5800,  0.0600, -1.6400, -0.6300],\n",
      "        [ 0.8600,  3.0000,  2.8600, -3.7100, -4.7000],\n",
      "        [-3.2900, -1.2500, -0.3100, -0.4800, -1.8500]])\n",
      "tensor([[ 1.4100,  0.9700, -6.9200, -2.4000,  2.2300, -1.2600, -3.0000],\n",
      "        [ 1.9700,  1.3500, -8.1500, -2.8900,  3.1900, -1.9400, -0.0200],\n",
      "        [ 0.0800, -1.6900,  0.4200,  0.7200,  3.3400,  0.0200,  0.1300]],\n",
      "       dtype=torch.float64)\n",
      "tensor([[ 1.4100,  0.9700, -6.9200, -2.4000,  2.2300, -1.2600, -3.0000],\n",
      "        [ 1.9700,  1.3500, -8.1500, -2.8900,  3.1900, -1.9400, -0.0200],\n",
      "        [ 0.0800, -1.6900,  0.4200,  0.7200,  3.3400,  0.0200,  0.1300]])\n"
     ]
    }
   ],
   "source": [
    "# Matrix multiplication\n",
    "A = torch.randn(3,4)\n",
    "B = torch.randn(4,5)\n",
    "C1 = np.random.randn(4,7)\n",
    "C2 = torch.tensor(C1,dtype=torch.float)\n",
    "\n",
    "print(np.round(A@B,2))\n",
    "print(np.round(A@C1,2))\n",
    "print(np.round(A@C2,2))"
   ]
  }
 ],
 "metadata": {
  "kernelspec": {
   "display_name": ".venv",
   "language": "python",
   "name": "python3"
  },
  "language_info": {
   "codemirror_mode": {
    "name": "ipython",
    "version": 3
   },
   "file_extension": ".py",
   "mimetype": "text/x-python",
   "name": "python",
   "nbconvert_exporter": "python",
   "pygments_lexer": "ipython3",
   "version": "3.11.0"
  }
 },
 "nbformat": 4,
 "nbformat_minor": 2
}
