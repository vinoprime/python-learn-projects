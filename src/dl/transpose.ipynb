{
 "cells": [
  {
   "cell_type": "code",
   "execution_count": null,
   "metadata": {},
   "outputs": [],
   "source": [
    "import numpy as np\n",
    "import torch"
   ]
  },
  {
   "cell_type": "code",
   "execution_count": 7,
   "metadata": {},
   "outputs": [
    {
     "name": "stdout",
     "output_type": "stream",
     "text": [
      "[[1 2 3 4]]\n",
      " \n",
      "[[1]\n",
      " [2]\n",
      " [3]\n",
      " [4]]\n",
      "[[1 2 3 4]]\n",
      "[[1]\n",
      " [2]\n",
      " [3]\n",
      " [4]]\n"
     ]
    }
   ],
   "source": [
    "# Create a vector(Linear Algebra)\n",
    "nv = np.array([[1, 2, 3, 4]])\n",
    "print(nv)\n",
    "print(\" \")\n",
    "# transpose it\n",
    "print(nv.T)\n",
    "print(nv)\n",
    "nvT = nv.T\n",
    "print(nvT)\n",
    "\n"
   ]
  },
  {
   "cell_type": "code",
   "execution_count": 11,
   "metadata": {},
   "outputs": [
    {
     "name": "stdout",
     "output_type": "stream",
     "text": [
      "[[1 2 3 4]\n",
      " [2 3 4 5]]\n",
      "[[1 2]\n",
      " [2 3]\n",
      " [3 4]\n",
      " [4 5]]\n",
      "[[1 2 3 4]\n",
      " [2 3 4 5]]\n"
     ]
    }
   ],
   "source": [
    "# Matrix\n",
    "nM = np.array([[1, 2, 3, 4],\n",
    "               [2, 3, 4, 5]])\n",
    "print(nM)\n",
    "nMT = nM.T\n",
    "print(nMT)\n",
    "print(nMT.T)"
   ]
  },
  {
   "cell_type": "code",
   "execution_count": 16,
   "metadata": {},
   "outputs": [
    {
     "name": "stdout",
     "output_type": "stream",
     "text": [
      "tensor([[1, 2, 3, 4]])\n",
      "tensor([[1],\n",
      "        [2],\n",
      "        [3],\n",
      "        [4]])\n"
     ]
    }
   ],
   "source": [
    "tv = torch.tensor([ [1,2,3,4] ])\n",
    "print(tv)\n",
    "print(tv.T)"
   ]
  },
  {
   "cell_type": "code",
   "execution_count": 22,
   "metadata": {},
   "outputs": [
    {
     "name": "stdout",
     "output_type": "stream",
     "text": [
      "-2\n",
      "-2\n"
     ]
    }
   ],
   "source": [
    "nv1 = np.array([1, 2, 3, 4])\n",
    "nv2 = np.array([0, 1, 0, -1])\n",
    "\n",
    "# dot product\n",
    "print(np.dot(nv1, nv2))\n",
    "print(np.sum(nv1*nv2))"
   ]
  },
  {
   "cell_type": "code",
   "execution_count": 23,
   "metadata": {},
   "outputs": [
    {
     "name": "stdout",
     "output_type": "stream",
     "text": [
      "tensor(-2)\n"
     ]
    }
   ],
   "source": [
    "tv1 = torch.tensor([1, 2, 3, 4])\n",
    "tv2 = torch.tensor([0, 1, 0, -1])\n",
    "\n",
    "print(torch.dot(tv1, tv2))"
   ]
  },
  {
   "cell_type": "code",
   "execution_count": 28,
   "metadata": {},
   "outputs": [
    {
     "name": "stdout",
     "output_type": "stream",
     "text": [
      "[[-1.29 -1.05  4.96 -3.88 -0.18]\n",
      " [ 1.02  0.69 -0.12  0.04  0.02]\n",
      " [ 1.21 -1.21 -0.54  0.72 -0.37]]\n",
      "[[-0.22  0.23 -0.03  0.42]\n",
      " [-0.96  5.8  -3.28 -1.29]\n",
      " [-3.56  6.58 -2.45  3.11]\n",
      " [-0.39  2.47 -1.38  0.08]\n",
      " [-0.01  2.84 -1.86 -2.04]\n",
      " [ 0.94 -0.86  0.1  -0.61]\n",
      " [-0.97  0.58  0.15  2.45]]\n"
     ]
    }
   ],
   "source": [
    "# Matrix multiplication\n",
    "A = np.random.randn(3,4)\n",
    "B = np.random.randn(4,5)\n",
    "C = np.random.randn(3,7)\n",
    "\n",
    "print(np.round(A@B,2))\n",
    "# print(np.round(A@C,2))\n",
    "print(np.round(C.T@A,2))"
   ]
  },
  {
   "cell_type": "code",
   "execution_count": 32,
   "metadata": {},
   "outputs": [
    {
     "name": "stdout",
     "output_type": "stream",
     "text": [
      "tensor([[ 0.6800, -1.4500, -2.7700, -0.0800,  0.4500],\n",
      "        [ 0.2400,  1.7200, -1.1800, -1.6300, -1.2000],\n",
      "        [-1.4100,  0.0100,  1.6700, -3.6300, -0.6200]])\n",
      "tensor([[ 1.3300,  1.4800, -1.6000, -0.9800, -0.0800, -0.6700, -1.3000],\n",
      "        [ 0.8600, -1.3900, -0.3800,  0.8100, -1.2500, -0.3600, -1.8500],\n",
      "        [-2.5800,  0.6100,  3.7700,  2.2800,  1.3900,  0.4500, -1.7200]],\n",
      "       dtype=torch.float64)\n",
      "tensor([[ 1.3300,  1.4800, -1.6000, -0.9800, -0.0800, -0.6700, -1.3000],\n",
      "        [ 0.8600, -1.3900, -0.3800,  0.8100, -1.2500, -0.3600, -1.8500],\n",
      "        [-2.5800,  0.6100,  3.7700,  2.2800,  1.3900,  0.4500, -1.7200]])\n"
     ]
    }
   ],
   "source": [
    "# Matrix multiplication\n",
    "A = torch.randn(3,4)\n",
    "B = torch.randn(4,5)\n",
    "C1 = np.random.randn(4,7)\n",
    "C2 = torch.tensor(C1,dtype=torch.float)\n",
    "\n",
    "print(np.round(A@B,2))\n",
    "print(np.round(A@C1,2))\n",
    "print(np.round(A@C2,2))"
   ]
  }
 ],
 "metadata": {
  "kernelspec": {
   "display_name": ".venv",
   "language": "python",
   "name": "python3"
  },
  "language_info": {
   "codemirror_mode": {
    "name": "ipython",
    "version": 3
   },
   "file_extension": ".py",
   "mimetype": "text/x-python",
   "name": "python",
   "nbconvert_exporter": "python",
   "pygments_lexer": "ipython3",
   "version": "3.11.0"
  }
 },
 "nbformat": 4,
 "nbformat_minor": 2
}
