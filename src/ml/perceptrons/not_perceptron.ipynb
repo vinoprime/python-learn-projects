{
 "cells": [
  {
   "cell_type": "code",
   "execution_count": 1,
   "metadata": {},
   "outputs": [],
   "source": [
    "import numpy as np"
   ]
  },
  {
   "cell_type": "code",
   "execution_count": 7,
   "metadata": {},
   "outputs": [
    {
     "name": "stdout",
     "output_type": "stream",
     "text": [
      "[[0.1 0. ]]\n"
     ]
    }
   ],
   "source": [
    "# Input data with only 1 input \n",
    "inputs = np.array([[0],[1]])\n",
    "\n",
    "# Output labels (opposite of input)\n",
    "labels = np.array([1,0])\n",
    "\n",
    "# Initialize weight \n",
    "weight = 0 \n",
    "\n",
    "# Learning Rate\n",
    "learning_rate = 0.1\n",
    "\n",
    "\n",
    "# Traning loop\n",
    "for i in range(100):\n",
    "    #  Get predictions by thresholding \n",
    "    preds = (np.dot(inputs,weight)>0).astype(int)\n",
    "\n",
    "    # Calculate error\n",
    "    error = labels - preds\n",
    "\n",
    "    # Update weight\n",
    "    weight += learning_rate* np.dot(inputs.T, error)\n",
    "\n",
    "\n",
    "print(weight)"
   ]
  }
 ],
 "metadata": {
  "kernelspec": {
   "display_name": "venv",
   "language": "python",
   "name": "python3"
  },
  "language_info": {
   "codemirror_mode": {
    "name": "ipython",
    "version": 3
   },
   "file_extension": ".py",
   "mimetype": "text/x-python",
   "name": "python",
   "nbconvert_exporter": "python",
   "pygments_lexer": "ipython3",
   "version": "3.11.5"
  }
 },
 "nbformat": 4,
 "nbformat_minor": 2
}
