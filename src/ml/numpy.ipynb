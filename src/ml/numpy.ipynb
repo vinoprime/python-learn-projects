{
 "cells": [
  {
   "cell_type": "code",
   "execution_count": 3,
   "metadata": {},
   "outputs": [
    {
     "name": "stdout",
     "output_type": "stream",
     "text": [
      "[1 2 3]\n",
      "(3,)\n",
      "int32\n",
      "1\n",
      "3\n",
      "4\n",
      "-----------\n",
      "1\n",
      "[10  2  3]\n",
      "[20  0  6]\n"
     ]
    }
   ],
   "source": [
    "import numpy as np\n",
    "# print(np.__version__)\n",
    "\n",
    "a = np.array([1, 2, 3])\n",
    "print(a)\n",
    "print(a.shape)\n",
    "print(a.dtype)\n",
    "print(a.ndim)\n",
    "print(a.size)\n",
    "#  byte size\n",
    "print(a.itemsize)\n",
    "print(\"-----------\")\n",
    "print(a[0])\n",
    "a[0] = 10\n",
    "print(a)\n",
    "\n",
    "b = a * np.array([2, 0, 2])\n",
    "print(b)"
   ]
  },
  {
   "cell_type": "code",
   "execution_count": 4,
   "metadata": {},
   "outputs": [
    {
     "name": "stdout",
     "output_type": "stream",
     "text": [
      "[1 2 3]\n",
      "[1, 2, 3]\n",
      "[1, 2, 3, 4]\n",
      "[5 6 7]\n",
      "[1.         1.41421356 1.73205081]\n",
      "[0.         0.69314718 1.09861229]\n",
      "32\n",
      "32\n",
      "32\n",
      "32\n"
     ]
    }
   ],
   "source": [
    "l = [1,2,3]\n",
    "a = np.array([1,2,3])\n",
    "print(a)\n",
    "print(l)\n",
    "\n",
    "l.append(4)\n",
    "print(l)\n",
    "a = a + np.array([4])\n",
    "print(a)\n",
    "\n",
    "\n",
    "# l = l*2\n",
    "# print(l)\n",
    "# a = a * 2\n",
    "# print(a)\n",
    "\n",
    "a = np.array([1,2,3])\n",
    "a= np.sqrt(a)\n",
    "print(a)\n",
    "\n",
    "a = np.array([1,2,3])\n",
    "a = np.log(a)\n",
    "print(a)\n",
    "\n",
    "\n",
    "#  dot product\n",
    "l1 = [1,2,3]\n",
    "l2 = [4,5,6]\n",
    "\n",
    "c = np.array([1,2,3])\n",
    "\n",
    "dot = 0\n",
    "for i in range(len(l1)):\n",
    "    dot += l1[i] * l2[i]\n",
    "    \n",
    "print(dot)\n",
    "\n",
    "# using numpy\n",
    "a1 = np.array(l1)\n",
    "a2 = np.array(l2)\n",
    "\n",
    "dot = np.dot(a1,a2)\n",
    "print(dot)\n",
    "\n",
    "\n",
    "sum1 = a1 * a2\n",
    "dot = np.sum(sum1)\n",
    "print(dot)\n",
    "\n",
    "\n",
    "dot = a1 @ a2\n",
    "print(dot)\n",
    "\n"
   ]
  },
  {
   "cell_type": "code",
   "execution_count": 5,
   "metadata": {},
   "outputs": [
    {
     "name": "stdout",
     "output_type": "stream",
     "text": [
      "[[1 2]\n",
      " [3 4]]\n",
      "(2, 2)\n",
      "1\n",
      "1\n",
      "[1 3]\n",
      "[1 2]\n",
      "Transpose\n",
      "[[1 3]\n",
      " [2 4]]\n",
      "[[-2.   1. ]\n",
      " [ 1.5 -0.5]]\n",
      "[[1 0]\n",
      " [0 4]]\n",
      "[[1 2 3 4]\n",
      " [5 6 7 8]]\n",
      "[1 2 3 4]\n",
      "[2 3]\n",
      "8\n"
     ]
    }
   ],
   "source": [
    "# Multi dimentional arrays\n",
    "\n",
    "a = np.array([[1,2],[3,4]])\n",
    "print(a)\n",
    "print(a.shape)\n",
    "\n",
    "print(a[0][0])\n",
    "print(a[0,0])\n",
    "print(a[:,0]) # [1, , ] [3, , ]\n",
    "print(a[0,:]) # [1, 2, 22]\n",
    "print(\"Transpose\")  \n",
    "print(a.T) \n",
    "print(np.linalg.inv(a)) \n",
    "\n",
    "c = np.diag(a)\n",
    "print(np.diag(c))\n",
    "\n",
    "\n",
    "a = np.array([[1,2,3,4],[5,6,7,8]])\n",
    "print(a)\n",
    "\n",
    "b = a[0,1]\n",
    "b = a[0,:]\n",
    "print(b)\n",
    "b = a[0,1:3]\n",
    "print(b)\n",
    "b = a[-1,-1]\n",
    "print(b)\n",
    "\n",
    "\n",
    "\n",
    "\n",
    "\n",
    "\n"
   ]
  },
  {
   "cell_type": "code",
   "execution_count": 6,
   "metadata": {},
   "outputs": [
    {
     "name": "stdout",
     "output_type": "stream",
     "text": [
      "[[1 2]\n",
      " [3 4]\n",
      " [5 6]]\n",
      "[[False False]\n",
      " [ True  True]\n",
      " [ True  True]]\n",
      "[3 4 5 6]\n",
      "[3 4 5 6]\n",
      "[[-1 -1]\n",
      " [ 3  4]\n",
      " [ 5  6]]\n"
     ]
    }
   ],
   "source": [
    "a = np.array([[1,2],[3,4],[5,6]])\n",
    "print(a)\n",
    "\n",
    "bool_idx = a > 2\n",
    "print(bool_idx)\n",
    "print(a[bool_idx])\n",
    "print(a[a > 2])\n",
    "\n",
    "\n",
    "b = np.where(a>2, a, -1)\n",
    "print(b)\n",
    "\n"
   ]
  },
  {
   "cell_type": "code",
   "execution_count": 9,
   "metadata": {},
   "outputs": [
    {
     "name": "stdout",
     "output_type": "stream",
     "text": [
      "[10 19 30 41 51 11 61]\n",
      "[19 41 11]\n"
     ]
    }
   ],
   "source": [
    "a = np.array([10,19,30,41,51,11,61])\n",
    "print(a)\n",
    "b = [1,3,5]\n",
    "print(a[b])"
   ]
  },
  {
   "cell_type": "code",
   "execution_count": 15,
   "metadata": {},
   "outputs": [
    {
     "name": "stdout",
     "output_type": "stream",
     "text": [
      "[10 19 30 41 50 11 61]\n",
      "[10 30 50]\n"
     ]
    }
   ],
   "source": [
    "a = np.array([10,19,30,41,50,11,61])\n",
    "print(a)\n",
    "even = np.argwhere(a%2==0).flatten()\n",
    "print(a[even])"
   ]
  },
  {
   "cell_type": "code",
   "execution_count": 25,
   "metadata": {},
   "outputs": [
    {
     "name": "stdout",
     "output_type": "stream",
     "text": [
      "[1 2 3 4 5 6]\n",
      "(6,)\n",
      "(2, 3)\n",
      "[[1 2 3 4 5 6]]\n",
      "[[1]\n",
      " [2]\n",
      " [3]\n",
      " [4]\n",
      " [5]\n",
      " [6]]\n"
     ]
    }
   ],
   "source": [
    "a = np.arange(1, 7)\n",
    "print(a)\n",
    "print(a.shape)\n",
    "b = a.reshape((2, 3))\n",
    "print(b.shape)\n",
    "b = a[np.newaxis, :]\n",
    "print(b)\n",
    "b = a[:, np.newaxis]\n",
    "print(b)"
   ]
  },
  {
   "cell_type": "code",
   "execution_count": 26,
   "metadata": {},
   "outputs": [
    {
     "name": "stdout",
     "output_type": "stream",
     "text": [
      "[[1 2]\n",
      " [3 4]]\n"
     ]
    }
   ],
   "source": [
    "a = np.array([[1, 2], [3, 4]])\n",
    "print(a)"
   ]
  }
 ],
 "metadata": {
  "kernelspec": {
   "display_name": "venv",
   "language": "python",
   "name": "python3"
  },
  "language_info": {
   "codemirror_mode": {
    "name": "ipython",
    "version": 3
   },
   "file_extension": ".py",
   "mimetype": "text/x-python",
   "name": "python",
   "nbconvert_exporter": "python",
   "pygments_lexer": "ipython3",
   "version": "3.11.5"
  }
 },
 "nbformat": 4,
 "nbformat_minor": 2
}
