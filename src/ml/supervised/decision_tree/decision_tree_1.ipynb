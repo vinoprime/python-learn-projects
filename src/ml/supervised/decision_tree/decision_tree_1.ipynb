{
 "cells": [
  {
   "cell_type": "code",
   "execution_count": null,
   "metadata": {},
   "outputs": [],
   "source": [
    "import pandas as pd\n",
    "from sklearn.tree import DecisionTreeClassifier\n",
    "from sklearn.model_selection import train_test_split\n",
    "from sklearn.metrics import accuracy_score\n",
    "# from sklearn.externals import joblib\n",
    "import joblib\n",
    "import warnings\n",
    "\n",
    "# Ignore the warning\n",
    "warnings.filterwarnings(\"ignore\")\n",
    "\n",
    "music_data = pd.read_csv(\"./data_set/music.csv\")"
   ]
  },
  {
   "cell_type": "code",
   "execution_count": null,
   "metadata": {},
   "outputs": [],
   "source": [
    "# Train and test acuracy\n",
    "print(\"start\")\n",
    "X = music_data.drop(columns=[\"genre\"])\n",
    "y = music_data['genre']\n",
    "X_train, X_test , y_train, y_test = train_test_split(X, y, test_size=0.2)\n",
    "\n",
    "model = DecisionTreeClassifier()\n",
    "model.fit(X_train, y_train)\n",
    "\n",
    "predictions = model.predict(X_test)\n",
    "\n",
    "score = accuracy_score(y_test, predictions)\n",
    "print(score)\n",
    "print(\"end\")"
   ]
  },
  {
   "cell_type": "code",
   "execution_count": null,
   "metadata": {},
   "outputs": [],
   "source": [
    "print(\"start\")\n",
    "# Real ouput\n",
    "model = DecisionTreeClassifier()\n",
    "model.fit(X, y)\n",
    "\n",
    "predictions = model.predict([[21,1]])\n",
    "print(predictions)\n",
    "print(\"end\")"
   ]
  },
  {
   "cell_type": "code",
   "execution_count": null,
   "metadata": {},
   "outputs": [],
   "source": [
    "print(\"start\")\n",
    "\n",
    "joblib.dump(model, \"music-recommender.joblib\")\n",
    "\n",
    "print(\"end\")"
   ]
  },
  {
   "cell_type": "code",
   "execution_count": null,
   "metadata": {},
   "outputs": [],
   "source": [
    "# Usimg Pre-Trained model\n",
    "print(\"start\")\n",
    "\n",
    "model = joblib.load(\"music-recommender.joblib\")\n",
    "predictions = model.predict([[21,1]])\n",
    "print(predictions)\n",
    "\n",
    "print(\"end\")"
   ]
  },
  {
   "cell_type": "code",
   "execution_count": null,
   "metadata": {},
   "outputs": [],
   "source": [
    "print(\"start\")\n",
    "\n",
    "from sklearn import tree\n",
    "\n",
    "tree.export_graphviz(model, out_file=\"music-recommender.dot\", \n",
    "                     feature_names=[\"age\", \"gender\"], \n",
    "                     class_names=sorted(y.unique()), \n",
    "                     label=\"all\", rounded=True, filled=True)\n",
    "\n",
    "print(\"end\")"
   ]
  }
 ],
 "metadata": {
  "language_info": {
   "name": "python"
  }
 },
 "nbformat": 4,
 "nbformat_minor": 2
}
