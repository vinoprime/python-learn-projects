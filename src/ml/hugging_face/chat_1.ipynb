{
 "cells": [
  {
   "cell_type": "code",
   "execution_count": null,
   "metadata": {},
   "outputs": [],
   "source": [
    "import os\n",
    "import json\n",
    "\n",
    "HUGGING_FACE_API_KEY = \"\"\n",
    "\n",
    "with open(\"../../key.json\", 'r') as file_to_read:\n",
    "  json_data = json.load(file_to_read)\n",
    "  HUGGING_FACE_API_KEY = json_data[\"HUGGING_FACE_API_KEY\"]"
   ]
  },
  {
   "cell_type": "code",
   "execution_count": null,
   "metadata": {},
   "outputs": [],
   "source": [
    "from langchain import PromptTemplate, HuggingFaceHub, LLMChain\n",
    "\n",
    "template = \"\"\"Question: {question}\n",
    "Answer: Let's think step by step.\"\"\"\n",
    "\n",
    "prompt = PromptTemplate(template=template, input_variables=[\"question\"])\n",
    "\n",
    "api_key = HUGGING_FACE_API_KEY\n",
    "repo_id = \"google/flan-t5-xxl\"\n",
    "model_kwargs = {\"temperature\": 0.1, \"max_length\": 64}\n",
    "llm = HuggingFaceHub(repo_id=repo_id, model_kwargs=model_kwargs, huggingfacehub_api_token=api_key)\n",
    "\n",
    "llm_chain = LLMChain(prompt=prompt,llm=llm)\n",
    "\n",
    "question=\"Capital of Tamilnadu\"\n",
    "\n",
    "print(llm_chain.run(question))"
   ]
  }
 ],
 "metadata": {
  "language_info": {
   "name": "python"
  }
 },
 "nbformat": 4,
 "nbformat_minor": 2
}
