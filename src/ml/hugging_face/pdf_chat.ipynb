{
 "cells": [
  {
   "cell_type": "code",
   "execution_count": 1,
   "metadata": {},
   "outputs": [
    {
     "ename": "FileNotFoundError",
     "evalue": "[Errno 2] No such file or directory: '../../key.json'",
     "output_type": "error",
     "traceback": [
      "\u001b[1;31m---------------------------------------------------------------------------\u001b[0m",
      "\u001b[1;31mFileNotFoundError\u001b[0m                         Traceback (most recent call last)",
      "\u001b[1;32md:\\0_projects\\github_vinoprime\\python-learn-projects\\src\\ml\\hugging_face\\pdf_chat.ipynb Cell 1\u001b[0m line \u001b[0;36m6\n\u001b[0;32m      <a href='vscode-notebook-cell:/d%3A/0_projects/github_vinoprime/python-learn-projects/src/ml/hugging_face/pdf_chat.ipynb#W0sZmlsZQ%3D%3D?line=1'>2</a>\u001b[0m \u001b[39mimport\u001b[39;00m \u001b[39mjson\u001b[39;00m\n\u001b[0;32m      <a href='vscode-notebook-cell:/d%3A/0_projects/github_vinoprime/python-learn-projects/src/ml/hugging_face/pdf_chat.ipynb#W0sZmlsZQ%3D%3D?line=3'>4</a>\u001b[0m HUGGING_FACE_API_KEY \u001b[39m=\u001b[39m \u001b[39m\"\u001b[39m\u001b[39m\"\u001b[39m\n\u001b[1;32m----> <a href='vscode-notebook-cell:/d%3A/0_projects/github_vinoprime/python-learn-projects/src/ml/hugging_face/pdf_chat.ipynb#W0sZmlsZQ%3D%3D?line=5'>6</a>\u001b[0m \u001b[39mwith\u001b[39;00m \u001b[39mopen\u001b[39;49m(\u001b[39m\"\u001b[39;49m\u001b[39m../../key.json\u001b[39;49m\u001b[39m\"\u001b[39;49m, \u001b[39m'\u001b[39;49m\u001b[39mr\u001b[39;49m\u001b[39m'\u001b[39;49m) \u001b[39mas\u001b[39;00m file_to_read:\n\u001b[0;32m      <a href='vscode-notebook-cell:/d%3A/0_projects/github_vinoprime/python-learn-projects/src/ml/hugging_face/pdf_chat.ipynb#W0sZmlsZQ%3D%3D?line=6'>7</a>\u001b[0m   json_data \u001b[39m=\u001b[39m json\u001b[39m.\u001b[39mload(file_to_read)\n\u001b[0;32m      <a href='vscode-notebook-cell:/d%3A/0_projects/github_vinoprime/python-learn-projects/src/ml/hugging_face/pdf_chat.ipynb#W0sZmlsZQ%3D%3D?line=7'>8</a>\u001b[0m   HUGGING_FACE_API_KEY \u001b[39m=\u001b[39m json_data[\u001b[39m\"\u001b[39m\u001b[39mHUGGING_FACE_API_KEY\u001b[39m\u001b[39m\"\u001b[39m]\n",
      "File \u001b[1;32md:\\0_projects\\github_vinoprime\\python-learn-projects\\venv\\Lib\\site-packages\\IPython\\core\\interactiveshell.py:308\u001b[0m, in \u001b[0;36m_modified_open\u001b[1;34m(file, *args, **kwargs)\u001b[0m\n\u001b[0;32m    301\u001b[0m \u001b[39mif\u001b[39;00m file \u001b[39min\u001b[39;00m {\u001b[39m0\u001b[39m, \u001b[39m1\u001b[39m, \u001b[39m2\u001b[39m}:\n\u001b[0;32m    302\u001b[0m     \u001b[39mraise\u001b[39;00m \u001b[39mValueError\u001b[39;00m(\n\u001b[0;32m    303\u001b[0m         \u001b[39mf\u001b[39m\u001b[39m\"\u001b[39m\u001b[39mIPython won\u001b[39m\u001b[39m'\u001b[39m\u001b[39mt let you open fd=\u001b[39m\u001b[39m{\u001b[39;00mfile\u001b[39m}\u001b[39;00m\u001b[39m by default \u001b[39m\u001b[39m\"\u001b[39m\n\u001b[0;32m    304\u001b[0m         \u001b[39m\"\u001b[39m\u001b[39mas it is likely to crash IPython. If you know what you are doing, \u001b[39m\u001b[39m\"\u001b[39m\n\u001b[0;32m    305\u001b[0m         \u001b[39m\"\u001b[39m\u001b[39myou can use builtins\u001b[39m\u001b[39m'\u001b[39m\u001b[39m open.\u001b[39m\u001b[39m\"\u001b[39m\n\u001b[0;32m    306\u001b[0m     )\n\u001b[1;32m--> 308\u001b[0m \u001b[39mreturn\u001b[39;00m io_open(file, \u001b[39m*\u001b[39;49margs, \u001b[39m*\u001b[39;49m\u001b[39m*\u001b[39;49mkwargs)\n",
      "\u001b[1;31mFileNotFoundError\u001b[0m: [Errno 2] No such file or directory: '../../key.json'"
     ]
    }
   ],
   "source": [
    "import os\n",
    "import json\n",
    "\n",
    "HUGGING_FACE_API_KEY = \"\"\n",
    "\n",
    "with open(\"../../key.json\", 'r') as file_to_read:\n",
    "  json_data = json.load(file_to_read)\n",
    "  HUGGING_FACE_API_KEY = json_data[\"HUGGING_FACE_API_KEY\"]\n",
    "print(\"end\")"
   ]
  },
  {
   "cell_type": "code",
   "execution_count": null,
   "metadata": {},
   "outputs": [],
   "source": [
    "print(\"Start\")\n",
    "\n",
    "from langchain import PromptTemplate, HuggingFaceHub, LLMChain\n",
    "\n",
    "template = \"\"\"Question: {question}\n",
    "Answer: Let's think step by step.\"\"\"\n",
    "\n",
    "prompt = PromptTemplate(template=template, input_variables=[\"question\"])\n",
    "\n",
    "api_key = HUGGING_FACE_API_KEY\n",
    "repo_id = \"google/flan-t5-xxl\"\n",
    "repo_id = \"tiiuae/falcon-7b-instruct\"\n",
    "model_kwargs = {\"temperature\": 0.1, \"max_length\": 64}\n",
    "llm = HuggingFaceHub(repo_id=repo_id, model_kwargs=model_kwargs, huggingfacehub_api_token=api_key)\n",
    "\n",
    "llm_chain = LLMChain(prompt=prompt,llm=llm)\n",
    "\n",
    "print(\"end\")"
   ]
  },
  {
   "cell_type": "code",
   "execution_count": null,
   "metadata": {},
   "outputs": [],
   "source": [
    "print(\"start\")\n",
    "question=\"python\"\n",
    "print(llm_chain.run(question))\n",
    "print(\"end\")"
   ]
  }
 ],
 "metadata": {
  "kernelspec": {
   "display_name": "venv",
   "language": "python",
   "name": "python3"
  },
  "language_info": {
   "codemirror_mode": {
    "name": "ipython",
    "version": 3
   },
   "file_extension": ".py",
   "mimetype": "text/x-python",
   "name": "python",
   "nbconvert_exporter": "python",
   "pygments_lexer": "ipython3",
   "version": "3.11.5"
  }
 },
 "nbformat": 4,
 "nbformat_minor": 2
}
