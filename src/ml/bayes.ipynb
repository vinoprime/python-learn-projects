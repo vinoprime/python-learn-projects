{
 "cells": [
  {
   "cell_type": "code",
   "execution_count": null,
   "metadata": {},
   "outputs": [],
   "source": [
    "# S: sick\n",
    "# H: Helathy\n",
    "# + \" Positive\"\n",
    "\n",
    "\n",
    "# P(S) = 0.0001\n",
    "# P(H) = 0.9999\n",
    "# P(+|S) = 0.99\n",
    "# P(+|H) = 0.01\n",
    "\n",
    "# P(S|+) = P(S)P(+|S)/P(S)*P(+|S)+P(H)P(+|H) = 0.0098 is < 1%\n"
   ]
  }
 ],
 "metadata": {
  "kernelspec": {
   "display_name": "venv",
   "language": "python",
   "name": "python3"
  },
  "language_info": {
   "codemirror_mode": {
    "name": "ipython",
    "version": 3
   },
   "file_extension": ".py",
   "mimetype": "text/x-python",
   "name": "python",
   "nbconvert_exporter": "python",
   "pygments_lexer": "ipython3",
   "version": "3.11.5"
  }
 },
 "nbformat": 4,
 "nbformat_minor": 2
}
