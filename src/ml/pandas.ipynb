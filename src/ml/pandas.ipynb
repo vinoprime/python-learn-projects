{
 "cells": [
  {
   "cell_type": "code",
   "execution_count": 3,
   "metadata": {},
   "outputs": [],
   "source": [
    "# Pandas\n",
    "\n",
    "import pandas as pd"
   ]
  },
  {
   "cell_type": "code",
   "execution_count": 15,
   "metadata": {},
   "outputs": [
    {
     "data": {
      "text/html": [
       "<div>\n",
       "<style scoped>\n",
       "    .dataframe tbody tr th:only-of-type {\n",
       "        vertical-align: middle;\n",
       "    }\n",
       "\n",
       "    .dataframe tbody tr th {\n",
       "        vertical-align: top;\n",
       "    }\n",
       "\n",
       "    .dataframe thead th {\n",
       "        text-align: right;\n",
       "    }\n",
       "</style>\n",
       "<table border=\"1\" class=\"dataframe\">\n",
       "  <thead>\n",
       "    <tr style=\"text-align: right;\">\n",
       "      <th></th>\n",
       "      <th>-0.72407</th>\n",
       "    </tr>\n",
       "    <tr>\n",
       "      <th>2.23863</th>\n",
       "      <th></th>\n",
       "    </tr>\n",
       "  </thead>\n",
       "  <tbody>\n",
       "    <tr>\n",
       "      <th>-0.00156</th>\n",
       "      <td>-2.40724</td>\n",
       "    </tr>\n",
       "    <tr>\n",
       "      <th>3.01665</th>\n",
       "      <td>2.64837</td>\n",
       "    </tr>\n",
       "    <tr>\n",
       "      <th>2.31019</th>\n",
       "      <td>0.36092</td>\n",
       "    </tr>\n",
       "    <tr>\n",
       "      <th>2.05950</th>\n",
       "      <td>0.67312</td>\n",
       "    </tr>\n",
       "    <tr>\n",
       "      <th>1.24736</th>\n",
       "      <td>-0.45460</td>\n",
       "    </tr>\n",
       "    <tr>\n",
       "      <th>...</th>\n",
       "      <td>...</td>\n",
       "    </tr>\n",
       "    <tr>\n",
       "      <th>1.21538</th>\n",
       "      <td>-0.92159</td>\n",
       "    </tr>\n",
       "    <tr>\n",
       "      <th>2.39377</th>\n",
       "      <td>0.76953</td>\n",
       "    </tr>\n",
       "    <tr>\n",
       "      <th>1.55730</th>\n",
       "      <td>0.03283</td>\n",
       "    </tr>\n",
       "    <tr>\n",
       "      <th>0.70874</th>\n",
       "      <td>-1.07619</td>\n",
       "    </tr>\n",
       "    <tr>\n",
       "      <th>1.76894</th>\n",
       "      <td>0.20174</td>\n",
       "    </tr>\n",
       "  </tbody>\n",
       "</table>\n",
       "<p>99 rows × 1 columns</p>\n",
       "</div>"
      ],
      "text/plain": [
       "          -0.72407\n",
       "2.23863           \n",
       "-0.00156  -2.40724\n",
       " 3.01665   2.64837\n",
       " 2.31019   0.36092\n",
       " 2.05950   0.67312\n",
       " 1.24736  -0.45460\n",
       "...            ...\n",
       " 1.21538  -0.92159\n",
       " 2.39377   0.76953\n",
       " 1.55730   0.03283\n",
       " 0.70874  -1.07619\n",
       " 1.76894   0.20174\n",
       "\n",
       "[99 rows x 1 columns]"
      ]
     },
     "execution_count": 15,
     "metadata": {},
     "output_type": "execute_result"
    }
   ],
   "source": [
    "df = pd.read_csv('../data/data.csv',index_col=1)\n",
    "df"
   ]
  }
 ],
 "metadata": {
  "kernelspec": {
   "display_name": ".venv",
   "language": "python",
   "name": "python3"
  },
  "language_info": {
   "codemirror_mode": {
    "name": "ipython",
    "version": 3
   },
   "file_extension": ".py",
   "mimetype": "text/x-python",
   "name": "python",
   "nbconvert_exporter": "python",
   "pygments_lexer": "ipython3",
   "version": "3.11.0"
  }
 },
 "nbformat": 4,
 "nbformat_minor": 2
}
